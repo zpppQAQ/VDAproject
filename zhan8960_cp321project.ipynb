{
 "cells": [
  {
   "cell_type": "markdown",
   "metadata": {
    "id": "8DB7507D3B614914A93594964EBA726C",
    "jupyter": {},
    "slideshow": {
     "slide_type": "slide"
    },
    "tags": []
   },
   "source": [
    "CP321 Project\n",
    "\n",
    "Name: Pan Zhang \n",
    "\n",
    "Student Number: 180108960 \n"
   ]
  },
  {
   "cell_type": "markdown",
   "metadata": {},
   "source": [
    "Main idear: As a international student,the annual tuition expenses account for most of my personal expenses. Then, I want to know more about the fees charged by various provinces of Canada for international undergraduate students among different  fields to compare whether my personal tuition expenses are reasonable?"
   ]
  },
  {
   "cell_type": "markdown",
   "metadata": {},
   "source": [
    "Reference: All the data that I used in my poroject is from https://open.canada.ca/data/en/dataset/1f02b37f-dcba-4546-816f-e592f6264e97"
   ]
  },
  {
   "cell_type": "markdown",
   "metadata": {},
   "source": [
    "First, let's see the raw data."
   ]
  },
  {
   "cell_type": "code",
   "execution_count": 1,
   "metadata": {
    "id": "663308ED29564CDB87A9E07DEAC1381C",
    "jupyter": {},
    "scrolled": false,
    "slideshow": {
     "slide_type": "slide"
    },
    "tags": []
   },
   "outputs": [
    {
     "data": {
      "text/html": [
       "<div>\n",
       "<style scoped>\n",
       "    .dataframe tbody tr th:only-of-type {\n",
       "        vertical-align: middle;\n",
       "    }\n",
       "\n",
       "    .dataframe tbody tr th {\n",
       "        vertical-align: top;\n",
       "    }\n",
       "\n",
       "    .dataframe thead th {\n",
       "        text-align: right;\n",
       "    }\n",
       "</style>\n",
       "<table border=\"1\" class=\"dataframe\">\n",
       "  <thead>\n",
       "    <tr style=\"text-align: right;\">\n",
       "      <th></th>\n",
       "      <th>REF_DATE</th>\n",
       "      <th>GEO</th>\n",
       "      <th>DGUID</th>\n",
       "      <th>Field of study</th>\n",
       "      <th>UOM</th>\n",
       "      <th>UOM_ID</th>\n",
       "      <th>SCALAR_FACTOR</th>\n",
       "      <th>SCALAR_ID</th>\n",
       "      <th>VECTOR</th>\n",
       "      <th>COORDINATE</th>\n",
       "      <th>VALUE</th>\n",
       "      <th>STATUS</th>\n",
       "      <th>SYMBOL</th>\n",
       "      <th>TERMINATED</th>\n",
       "      <th>DECIMALS</th>\n",
       "    </tr>\n",
       "  </thead>\n",
       "  <tbody>\n",
       "    <tr>\n",
       "      <th>0</th>\n",
       "      <td>2006/2007</td>\n",
       "      <td>Canada</td>\n",
       "      <td>2016A000011124</td>\n",
       "      <td>Total, field of study</td>\n",
       "      <td>Current dollars</td>\n",
       "      <td>75</td>\n",
       "      <td>units</td>\n",
       "      <td>0</td>\n",
       "      <td>v1001414713</td>\n",
       "      <td>1.19</td>\n",
       "      <td>13378.0</td>\n",
       "      <td>NaN</td>\n",
       "      <td>NaN</td>\n",
       "      <td>NaN</td>\n",
       "      <td>0</td>\n",
       "    </tr>\n",
       "    <tr>\n",
       "      <th>1</th>\n",
       "      <td>2006/2007</td>\n",
       "      <td>Canada</td>\n",
       "      <td>2016A000011124</td>\n",
       "      <td>Education</td>\n",
       "      <td>Current dollars</td>\n",
       "      <td>75</td>\n",
       "      <td>units</td>\n",
       "      <td>0</td>\n",
       "      <td>v62427452</td>\n",
       "      <td>1.10</td>\n",
       "      <td>11818.0</td>\n",
       "      <td>NaN</td>\n",
       "      <td>NaN</td>\n",
       "      <td>NaN</td>\n",
       "      <td>0</td>\n",
       "    </tr>\n",
       "    <tr>\n",
       "      <th>2</th>\n",
       "      <td>2006/2007</td>\n",
       "      <td>Canada</td>\n",
       "      <td>2016A000011124</td>\n",
       "      <td>Visual and performing arts, and communications...</td>\n",
       "      <td>Current dollars</td>\n",
       "      <td>75</td>\n",
       "      <td>units</td>\n",
       "      <td>0</td>\n",
       "      <td>v62427461</td>\n",
       "      <td>1.20</td>\n",
       "      <td>12784.0</td>\n",
       "      <td>NaN</td>\n",
       "      <td>NaN</td>\n",
       "      <td>NaN</td>\n",
       "      <td>0</td>\n",
       "    </tr>\n",
       "    <tr>\n",
       "      <th>3</th>\n",
       "      <td>2006/2007</td>\n",
       "      <td>Canada</td>\n",
       "      <td>2016A000011124</td>\n",
       "      <td>Humanities</td>\n",
       "      <td>Current dollars</td>\n",
       "      <td>75</td>\n",
       "      <td>units</td>\n",
       "      <td>0</td>\n",
       "      <td>v62427462</td>\n",
       "      <td>1.30</td>\n",
       "      <td>13313.0</td>\n",
       "      <td>NaN</td>\n",
       "      <td>NaN</td>\n",
       "      <td>NaN</td>\n",
       "      <td>0</td>\n",
       "    </tr>\n",
       "    <tr>\n",
       "      <th>4</th>\n",
       "      <td>2006/2007</td>\n",
       "      <td>Canada</td>\n",
       "      <td>2016A000011124</td>\n",
       "      <td>Social and behavioural sciences, and legal stu...</td>\n",
       "      <td>Current dollars</td>\n",
       "      <td>75</td>\n",
       "      <td>units</td>\n",
       "      <td>0</td>\n",
       "      <td>v62427463</td>\n",
       "      <td>1.40</td>\n",
       "      <td>12614.0</td>\n",
       "      <td>NaN</td>\n",
       "      <td>NaN</td>\n",
       "      <td>NaN</td>\n",
       "      <td>0</td>\n",
       "    </tr>\n",
       "    <tr>\n",
       "      <th>...</th>\n",
       "      <td>...</td>\n",
       "      <td>...</td>\n",
       "      <td>...</td>\n",
       "      <td>...</td>\n",
       "      <td>...</td>\n",
       "      <td>...</td>\n",
       "      <td>...</td>\n",
       "      <td>...</td>\n",
       "      <td>...</td>\n",
       "      <td>...</td>\n",
       "      <td>...</td>\n",
       "      <td>...</td>\n",
       "      <td>...</td>\n",
       "      <td>...</td>\n",
       "      <td>...</td>\n",
       "    </tr>\n",
       "    <tr>\n",
       "      <th>2656</th>\n",
       "      <td>2020/2021</td>\n",
       "      <td>Yukon</td>\n",
       "      <td>2016A000260</td>\n",
       "      <td>Nursing</td>\n",
       "      <td>Current dollars</td>\n",
       "      <td>75</td>\n",
       "      <td>units</td>\n",
       "      <td>0</td>\n",
       "      <td>v1210490551</td>\n",
       "      <td>12.14</td>\n",
       "      <td>NaN</td>\n",
       "      <td>..</td>\n",
       "      <td>NaN</td>\n",
       "      <td>NaN</td>\n",
       "      <td>0</td>\n",
       "    </tr>\n",
       "    <tr>\n",
       "      <th>2657</th>\n",
       "      <td>2020/2021</td>\n",
       "      <td>Yukon</td>\n",
       "      <td>2016A000260</td>\n",
       "      <td>Pharmacy</td>\n",
       "      <td>Current dollars</td>\n",
       "      <td>75</td>\n",
       "      <td>units</td>\n",
       "      <td>0</td>\n",
       "      <td>v1210490552</td>\n",
       "      <td>12.15</td>\n",
       "      <td>NaN</td>\n",
       "      <td>..</td>\n",
       "      <td>NaN</td>\n",
       "      <td>NaN</td>\n",
       "      <td>0</td>\n",
       "    </tr>\n",
       "    <tr>\n",
       "      <th>2658</th>\n",
       "      <td>2020/2021</td>\n",
       "      <td>Yukon</td>\n",
       "      <td>2016A000260</td>\n",
       "      <td>Veterinary medicine</td>\n",
       "      <td>Current dollars</td>\n",
       "      <td>75</td>\n",
       "      <td>units</td>\n",
       "      <td>0</td>\n",
       "      <td>v1210490553</td>\n",
       "      <td>12.16</td>\n",
       "      <td>NaN</td>\n",
       "      <td>..</td>\n",
       "      <td>NaN</td>\n",
       "      <td>NaN</td>\n",
       "      <td>0</td>\n",
       "    </tr>\n",
       "    <tr>\n",
       "      <th>2659</th>\n",
       "      <td>2020/2021</td>\n",
       "      <td>Yukon</td>\n",
       "      <td>2016A000260</td>\n",
       "      <td>Other health, parks, recreation and fitness</td>\n",
       "      <td>Current dollars</td>\n",
       "      <td>75</td>\n",
       "      <td>units</td>\n",
       "      <td>0</td>\n",
       "      <td>v1210490554</td>\n",
       "      <td>12.17</td>\n",
       "      <td>NaN</td>\n",
       "      <td>..</td>\n",
       "      <td>NaN</td>\n",
       "      <td>NaN</td>\n",
       "      <td>0</td>\n",
       "    </tr>\n",
       "    <tr>\n",
       "      <th>2660</th>\n",
       "      <td>2020/2021</td>\n",
       "      <td>Yukon</td>\n",
       "      <td>2016A000260</td>\n",
       "      <td>Personal, protective and transportation services</td>\n",
       "      <td>Current dollars</td>\n",
       "      <td>75</td>\n",
       "      <td>units</td>\n",
       "      <td>0</td>\n",
       "      <td>v1210490555</td>\n",
       "      <td>12.18</td>\n",
       "      <td>NaN</td>\n",
       "      <td>..</td>\n",
       "      <td>NaN</td>\n",
       "      <td>NaN</td>\n",
       "      <td>0</td>\n",
       "    </tr>\n",
       "  </tbody>\n",
       "</table>\n",
       "<p>2661 rows × 15 columns</p>\n",
       "</div>"
      ],
      "text/plain": [
       "       REF_DATE     GEO           DGUID  \\\n",
       "0     2006/2007  Canada  2016A000011124   \n",
       "1     2006/2007  Canada  2016A000011124   \n",
       "2     2006/2007  Canada  2016A000011124   \n",
       "3     2006/2007  Canada  2016A000011124   \n",
       "4     2006/2007  Canada  2016A000011124   \n",
       "...         ...     ...             ...   \n",
       "2656  2020/2021   Yukon     2016A000260   \n",
       "2657  2020/2021   Yukon     2016A000260   \n",
       "2658  2020/2021   Yukon     2016A000260   \n",
       "2659  2020/2021   Yukon     2016A000260   \n",
       "2660  2020/2021   Yukon     2016A000260   \n",
       "\n",
       "                                         Field of study              UOM  \\\n",
       "0                                 Total, field of study  Current dollars   \n",
       "1                                             Education  Current dollars   \n",
       "2     Visual and performing arts, and communications...  Current dollars   \n",
       "3                                            Humanities  Current dollars   \n",
       "4     Social and behavioural sciences, and legal stu...  Current dollars   \n",
       "...                                                 ...              ...   \n",
       "2656                                            Nursing  Current dollars   \n",
       "2657                                           Pharmacy  Current dollars   \n",
       "2658                                Veterinary medicine  Current dollars   \n",
       "2659        Other health, parks, recreation and fitness  Current dollars   \n",
       "2660   Personal, protective and transportation services  Current dollars   \n",
       "\n",
       "      UOM_ID SCALAR_FACTOR  SCALAR_ID       VECTOR  COORDINATE    VALUE  \\\n",
       "0         75         units          0  v1001414713        1.19  13378.0   \n",
       "1         75         units          0    v62427452        1.10  11818.0   \n",
       "2         75         units          0    v62427461        1.20  12784.0   \n",
       "3         75         units          0    v62427462        1.30  13313.0   \n",
       "4         75         units          0    v62427463        1.40  12614.0   \n",
       "...      ...           ...        ...          ...         ...      ...   \n",
       "2656      75         units          0  v1210490551       12.14      NaN   \n",
       "2657      75         units          0  v1210490552       12.15      NaN   \n",
       "2658      75         units          0  v1210490553       12.16      NaN   \n",
       "2659      75         units          0  v1210490554       12.17      NaN   \n",
       "2660      75         units          0  v1210490555       12.18      NaN   \n",
       "\n",
       "     STATUS  SYMBOL  TERMINATED  DECIMALS  \n",
       "0       NaN     NaN         NaN         0  \n",
       "1       NaN     NaN         NaN         0  \n",
       "2       NaN     NaN         NaN         0  \n",
       "3       NaN     NaN         NaN         0  \n",
       "4       NaN     NaN         NaN         0  \n",
       "...     ...     ...         ...       ...  \n",
       "2656     ..     NaN         NaN         0  \n",
       "2657     ..     NaN         NaN         0  \n",
       "2658     ..     NaN         NaN         0  \n",
       "2659     ..     NaN         NaN         0  \n",
       "2660     ..     NaN         NaN         0  \n",
       "\n",
       "[2661 rows x 15 columns]"
      ]
     },
     "execution_count": 1,
     "metadata": {},
     "output_type": "execute_result"
    }
   ],
   "source": [
    "import pandas as pd\n",
    "import numpy as np\n",
    "df = pd.read_csv('./37100005.csv')\n",
    "df"
   ]
  },
  {
   "cell_type": "markdown",
   "metadata": {
    "id": "0935FADABA174AF9840E3A977FD7D3D7",
    "jupyter": {},
    "mdEditEnable": false,
    "slideshow": {
     "slide_type": "slide"
    },
    "tags": []
   },
   "source": [
    "The data in the file contains the fees charged by Canadian provinces to international students in different majors from 2006 to 2021. Let's get straight to the see the main point and compare the average tuition fees of various field in Ontario and Quebec in the most recent year, 2021. The bar chart is good to use due to the need for comparsion. Otherwise, I hightlight the computer science which is my major for better comparsion. "
   ]
  },
  {
   "cell_type": "code",
   "execution_count": 2,
   "metadata": {
    "id": "301AC25B3BEE474D895BBEBC4D3CB2C7",
    "jupyter": {},
    "scrolled": false,
    "slideshow": {
     "slide_type": "slide"
    },
    "tags": []
   },
   "outputs": [
    {
     "name": "stdout",
     "output_type": "stream",
     "text": [
      "The average tuition fees is 45085.89473684211 , 24931.61111111111\n"
     ]
    },
    {
     "data": {
      "image/png": "[encoded data removed]",
      "text/plain": [
       "<Figure size 792x360 with 2 Axes>"
      ]
     },
     "metadata": {
      "needs_background": "light"
     },
     "output_type": "display_data"
    },
    {
     "data": {
      "image/png": "[encoded data removed]",
      "text/plain": [
       "<Figure size 432x288 with 1 Axes>"
      ]
     },
     "metadata": {
      "needs_background": "light"
     },
     "output_type": "display_data"
    }
   ],
   "source": [
    "sub_ONTARIO = df.loc[df[\"GEO\"] == \"Ontario\"]\n",
    "sub_QUEBEC = df.loc[df[\"GEO\"] == \"Quebec\"]\n",
    "\n",
    "sub_ONTARIO_2021 = sub_ONTARIO.loc[sub_ONTARIO[\"REF_DATE\"] == \"2020/2021\"]\n",
    "sub_QUEBEC_2021 = sub_QUEBEC.loc[sub_QUEBEC[\"REF_DATE\"] == \"2020/2021\"]\n",
    "\n",
    "average_ONTARIO = sub_ONTARIO_2021[\"VALUE\"].mean()\n",
    "average_QUEBEC = sub_QUEBEC_2021[\"VALUE\"].mean()\n",
    "\n",
    "print(\"The average tuition fees is\", average_ONTARIO, \",\", average_QUEBEC)\n",
    "\n",
    "import matplotlib.pyplot as plt\n",
    "\n",
    "color = []\n",
    "\n",
    "sub_ONTARIO_2021 = sub_ONTARIO_2021.reset_index(drop=True)\n",
    "sub_QUEBEC_2021 = sub_QUEBEC_2021.reset_index(drop=True)\n",
    "\n",
    "for  i in range(sub_ONTARIO_2021.shape[0]):\n",
    "    if(sub_ONTARIO_2021[\"Field of study\"][i] == \"Mathematics, computer and information sciences\"):\n",
    "        color.append(\"red\")\n",
    "    else:\n",
    "        color.append(\"blue\")\n",
    "\n",
    "plt.figure(figsize=(11,5))\n",
    "\n",
    "plt.subplot(121)\n",
    "\n",
    "plt.title(\"ONTARIO\")\n",
    "\n",
    "plt.bar(sub_ONTARIO_2021[\"Field of study\"], sub_ONTARIO_2021[\"VALUE\"], color=color)\n",
    "\n",
    "plt.xticks(rotation=90)\n",
    "plt.subplot(122)\n",
    "plt.title(\"QUEBEC\")\n",
    "plt.bar(sub_QUEBEC_2021[\"Field of study\"], sub_QUEBEC_2021[\"VALUE\"], color=color)\n",
    "plt.bar([1,2],[2,3])\n",
    "plt.xticks(rotation=90)\n",
    "\n",
    "plt.show()\n",
    "\n",
    "\n",
    "plt.bar([\"ONTARIO\", \"QUEBEC\"], [average_ONTARIO, average_QUEBEC], color=[\"red\", \"green\"])\n",
    "\n",
    "plt.show()"
   ]
  },
  {
   "cell_type": "markdown",
   "metadata": {},
   "source": [
    "Finding: The two bar charts near the top demonstrates the average tuition fees charged by Ontario and Quebec among different field. Here is some interesting facts that Dentistry is the most expensive field in the two provinces and the less tuition fees in Education. If the computer field is discussed separately, the average tuition fee in Ontario is nearly $10,000 more than Quebec per year. The figure below the two bar graphs shows the total average tuition fee between Ontario and Quebec. We can find that Ontario’s tuition fees are twice as high as Quebec’s per year."
   ]
  },
  {
   "cell_type": "markdown",
   "metadata": {
    "id": "85B01B9D6CD24AFF8CD6B7A764F8636E",
    "jupyter": {},
    "slideshow": {
     "slide_type": "slide"
    },
    "tags": []
   },
   "source": [
    "As a student major in computer science, I am interested in the changes in tuition of my major from 2006 to the present. Time series is good to use here."
   ]
  },
  {
   "cell_type": "code",
   "execution_count": 3,
   "metadata": {
    "id": "E8341B30CB934BB69277F2855C273BF9",
    "jupyter": {},
    "scrolled": false,
    "slideshow": {
     "slide_type": "slide"
    },
    "tags": []
   },
   "outputs": [
    {
     "data": {
      "image/png": "[encoded data removed]",
      "text/plain": [
       "<Figure size 432x288 with 1 Axes>"
      ]
     },
     "metadata": {
      "needs_background": "light"
     },
     "output_type": "display_data"
    }
   ],
   "source": [
    "\n",
    "sub_ONTARIO = df.loc[df[\"GEO\"] == \"Ontario\"]\n",
    "\n",
    "sub_ONTARIO_computer = sub_ONTARIO.loc[sub_ONTARIO[\"Field of study\"] == \"Mathematics, computer and information sciences\"]\n",
    "\n",
    "import matplotlib.pyplot as plt\n",
    "\n",
    "plt.bar(sub_ONTARIO_computer[\"REF_DATE\"], sub_ONTARIO_computer[\"VALUE\"])\n",
    "plt.title(\"value\")\n",
    "plt.xticks(rotation=90)\n",
    "plt.show()"
   ]
  },
  {
   "cell_type": "markdown",
   "metadata": {},
   "source": [
    "Finding: In general, the computer profession has grown slowly from the data in 2006 to 2013, but it has grown rapidly from 2013 to 2021."
   ]
  },
  {
   "cell_type": "markdown",
   "metadata": {},
   "source": [
    "Here is the little tool to help you to search the specific value based on your province, field and time.\n",
    "\n",
    "\n",
    "Abbreviation of fields:\n",
    "\n",
    "Education : edu\n",
    "\n",
    "Visual and performing arts, and communications technologies: vpact\n",
    "\n",
    "Humanities: hum\n",
    "\n",
    "Social and behavioural sciences, and legal studies: sbc\n",
    "\n",
    "Law: law\n",
    "\n",
    "Business, management and public administration: bmp\n",
    "\n",
    "Physical and life sciences and technologies: plt\n",
    "\n",
    "Mathematics, computer and information sciences: mcs\n",
    "\n",
    "Engineering: eng\n",
    "\n",
    "Architecture: arc\n",
    "\n",
    "Agriculture, natural resources and conservation: anr\n",
    "\n",
    "Medicine:med\n",
    "\n",
    "Other health, parks, recreation and fitness: hpr\n"
   ]
  },
  {
   "cell_type": "code",
   "execution_count": 4,
   "metadata": {
    "id": "14E5B0E9C7574FA49B97D5A81B7F4138",
    "jupyter": {},
    "scrolled": false,
    "slideshow": {
     "slide_type": "slide"
    },
    "tags": []
   },
   "outputs": [
    {
     "name": "stdout",
     "output_type": "stream",
     "text": [
      "Enter your province: Ontario\n",
      "Enter your field(remember to enter the abbreviation): mcs\n",
      "Enter the time you wanna search for: 2020\n",
      "42444.0\n",
      "117840.0\n"
     ]
    }
   ],
   "source": [
    "def search(GEO, field, time):\n",
    "    dirc = {\"edu\":\"Education\", \"vpact\":\"Visual and performing arts, and communications technologies\", \"hum\":\"Humanities\",\n",
    "    \"sbc\": \"Social and behavioural sciences, and legal studies\", \"law\":\"Law\", \"bmp\":\"Business, management and public administration\",\n",
    "    \"plt\":\"Physical and life sciences and technologies\", \"mcs\":\"Mathematics, computer and information sciences\", \"eng\":\"Engineering\",\n",
    "    \"arc\":\"Architecture\", \"anr\":\"Agriculture, natural resources and conservation\", \"med\":\"Medicine\",\"hpr\":\"Other health, parks, recreation and fitness\"}\n",
    "\n",
    "    a = df.loc[df[\"GEO\"] == GEO]\n",
    "\n",
    "    b = a.loc[a[\"Field of study\"] == dirc[field]]\n",
    "\n",
    "    time = time + \"/\" + str(int(time) + 1)\n",
    "\n",
    "    c = b.loc[b[\"REF_DATE\"] == time]\n",
    "\n",
    "    c = c.reset_index(drop=True)\n",
    "\n",
    "    return c[\"VALUE\"][0]\n",
    "\n",
    "geo = input(\"Enter your province: \")\n",
    "field = input(\"Enter your field(remember to enter the abbreviation): \")\n",
    "time = input(\"Enter the time you wanna search for: \")\n",
    "print(search(geo,field, time))\n",
    "#example testing\n",
    "#Enter your province: Ontario\n",
    "#Enter your field: mcs\n",
    "#Enter the time you wanna search for: 2020\n",
    "#42444.0\n",
    "def addition(a,b,c):\n",
    "    return a + b + c\n",
    "#2018 35920.0\n",
    "#2019 39476.0\n",
    "#2020 42444.0\n",
    "print(addition(35920.0, 39476.0, 42444.0))\n"
   ]
  },
  {
   "cell_type": "markdown",
   "metadata": {
    "id": "5DFE06DED02B469185137F39601856D8",
    "jupyter": {},
    "notebookId": "60617d8bce98c30015d61893",
    "slideshow": {
     "slide_type": "slide"
    },
    "tags": []
   },
   "source": [
    "Result: Back to my question, I can get the average tuition fee for international students in Ontario since I enrolled in 2018 which is 117840.0. Then, I could go loris to check my student accound and get final number 103484 which is less than the average tuituion fee in Ontario.\n"
   ]
  },
  {
   "cell_type": "code",
   "execution_count": null,
   "metadata": {},
   "outputs": [],
   "source": []
  }
 ],
 "metadata": {
  "kernelspec": {
   "display_name": "Python 3",
   "language": "python",
   "name": "python3"
  },
  "language_info": {
   "codemirror_mode": {
    "name": "ipython",
    "version": 3
   },
   "file_extension": ".py",
   "mimetype": "text/x-python",
   "name": "python",
   "nbconvert_exporter": "python",
   "pygments_lexer": "ipython3",
   "version": "3.8.5"
  }
 },
 "nbformat": 4,
 "nbformat_minor": 4
}
